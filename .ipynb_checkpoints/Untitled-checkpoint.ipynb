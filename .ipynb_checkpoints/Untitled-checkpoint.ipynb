{
 "cells": [
  {
   "cell_type": "markdown",
   "id": "cab2a061",
   "metadata": {},
   "source": [
    "# Required libraries for analysis"
   ]
  },
  {
   "cell_type": "code",
   "execution_count": 4,
   "id": "e8e75925",
   "metadata": {},
   "outputs": [],
   "source": [
    "import pandas as pd\n",
    "import matplotlib.pyplot as plt\n",
    "import folium"
   ]
  },
  {
   "cell_type": "markdown",
   "id": "853ce62e",
   "metadata": {},
   "source": [
    "# Reading csv data that is collected from minestry of health,Nepal"
   ]
  },
  {
   "cell_type": "code",
   "execution_count": 2,
   "id": "5d3f5db2",
   "metadata": {},
   "outputs": [
    {
     "data": {
      "text/html": [
       "<div>\n",
       "<style scoped>\n",
       "    .dataframe tbody tr th:only-of-type {\n",
       "        vertical-align: middle;\n",
       "    }\n",
       "\n",
       "    .dataframe tbody tr th {\n",
       "        vertical-align: top;\n",
       "    }\n",
       "\n",
       "    .dataframe thead th {\n",
       "        text-align: right;\n",
       "    }\n",
       "</style>\n",
       "<table border=\"1\" class=\"dataframe\">\n",
       "  <thead>\n",
       "    <tr style=\"text-align: right;\">\n",
       "      <th></th>\n",
       "      <th>Province</th>\n",
       "      <th>Districts</th>\n",
       "      <th>Jan</th>\n",
       "      <th>Feb</th>\n",
       "      <th>Mar</th>\n",
       "      <th>Apr</th>\n",
       "      <th>May</th>\n",
       "      <th>Jun</th>\n",
       "      <th>Jul</th>\n",
       "      <th>Aug</th>\n",
       "      <th>Sept</th>\n",
       "      <th>Oct</th>\n",
       "      <th>Nov</th>\n",
       "      <th>Dec</th>\n",
       "      <th>GrandTotal</th>\n",
       "    </tr>\n",
       "  </thead>\n",
       "  <tbody>\n",
       "    <tr>\n",
       "      <th>0</th>\n",
       "      <td>3</td>\n",
       "      <td>306 KATHMANDU</td>\n",
       "      <td>0</td>\n",
       "      <td>0</td>\n",
       "      <td>0</td>\n",
       "      <td>0</td>\n",
       "      <td>1</td>\n",
       "      <td>1</td>\n",
       "      <td>35</td>\n",
       "      <td>727</td>\n",
       "      <td>9891</td>\n",
       "      <td>2911</td>\n",
       "      <td>761</td>\n",
       "      <td>49</td>\n",
       "      <td>14376</td>\n",
       "    </tr>\n",
       "    <tr>\n",
       "      <th>1</th>\n",
       "      <td>3</td>\n",
       "      <td>308 LALITPUR</td>\n",
       "      <td>0</td>\n",
       "      <td>0</td>\n",
       "      <td>0</td>\n",
       "      <td>0</td>\n",
       "      <td>0</td>\n",
       "      <td>1</td>\n",
       "      <td>99</td>\n",
       "      <td>1558</td>\n",
       "      <td>6016</td>\n",
       "      <td>1809</td>\n",
       "      <td>120</td>\n",
       "      <td>11</td>\n",
       "      <td>9614</td>\n",
       "    </tr>\n",
       "    <tr>\n",
       "      <th>2</th>\n",
       "      <td>3</td>\n",
       "      <td>307 BHAKTAPUR</td>\n",
       "      <td>0</td>\n",
       "      <td>0</td>\n",
       "      <td>0</td>\n",
       "      <td>0</td>\n",
       "      <td>0</td>\n",
       "      <td>0</td>\n",
       "      <td>6</td>\n",
       "      <td>86</td>\n",
       "      <td>1151</td>\n",
       "      <td>4204</td>\n",
       "      <td>677</td>\n",
       "      <td>21</td>\n",
       "      <td>6145</td>\n",
       "    </tr>\n",
       "    <tr>\n",
       "      <th>3</th>\n",
       "      <td>3</td>\n",
       "      <td>312 MAKWANPUR</td>\n",
       "      <td>0</td>\n",
       "      <td>0</td>\n",
       "      <td>0</td>\n",
       "      <td>0</td>\n",
       "      <td>0</td>\n",
       "      <td>0</td>\n",
       "      <td>221</td>\n",
       "      <td>337</td>\n",
       "      <td>2452</td>\n",
       "      <td>2220</td>\n",
       "      <td>590</td>\n",
       "      <td>17</td>\n",
       "      <td>5837</td>\n",
       "    </tr>\n",
       "    <tr>\n",
       "      <th>4</th>\n",
       "      <td>3</td>\n",
       "      <td>313 CHITAWAN</td>\n",
       "      <td>0</td>\n",
       "      <td>0</td>\n",
       "      <td>0</td>\n",
       "      <td>0</td>\n",
       "      <td>0</td>\n",
       "      <td>3</td>\n",
       "      <td>4</td>\n",
       "      <td>24</td>\n",
       "      <td>995</td>\n",
       "      <td>1509</td>\n",
       "      <td>638</td>\n",
       "      <td>40</td>\n",
       "      <td>3213</td>\n",
       "    </tr>\n",
       "    <tr>\n",
       "      <th>...</th>\n",
       "      <td>...</td>\n",
       "      <td>...</td>\n",
       "      <td>...</td>\n",
       "      <td>...</td>\n",
       "      <td>...</td>\n",
       "      <td>...</td>\n",
       "      <td>...</td>\n",
       "      <td>...</td>\n",
       "      <td>...</td>\n",
       "      <td>...</td>\n",
       "      <td>...</td>\n",
       "      <td>...</td>\n",
       "      <td>...</td>\n",
       "      <td>...</td>\n",
       "      <td>...</td>\n",
       "    </tr>\n",
       "    <tr>\n",
       "      <th>72</th>\n",
       "      <td>6</td>\n",
       "      <td>602 MUGU</td>\n",
       "      <td>0</td>\n",
       "      <td>0</td>\n",
       "      <td>0</td>\n",
       "      <td>0</td>\n",
       "      <td>0</td>\n",
       "      <td>0</td>\n",
       "      <td>0</td>\n",
       "      <td>1</td>\n",
       "      <td>7</td>\n",
       "      <td>4</td>\n",
       "      <td>0</td>\n",
       "      <td>0</td>\n",
       "      <td>12</td>\n",
       "    </tr>\n",
       "    <tr>\n",
       "      <th>73</th>\n",
       "      <td>3</td>\n",
       "      <td>303 RASUWA</td>\n",
       "      <td>0</td>\n",
       "      <td>0</td>\n",
       "      <td>0</td>\n",
       "      <td>0</td>\n",
       "      <td>0</td>\n",
       "      <td>0</td>\n",
       "      <td>0</td>\n",
       "      <td>0</td>\n",
       "      <td>6</td>\n",
       "      <td>5</td>\n",
       "      <td>0</td>\n",
       "      <td>0</td>\n",
       "      <td>11</td>\n",
       "    </tr>\n",
       "    <tr>\n",
       "      <th>74</th>\n",
       "      <td>4</td>\n",
       "      <td>403 MUSTANG</td>\n",
       "      <td>0</td>\n",
       "      <td>0</td>\n",
       "      <td>0</td>\n",
       "      <td>0</td>\n",
       "      <td>0</td>\n",
       "      <td>0</td>\n",
       "      <td>0</td>\n",
       "      <td>0</td>\n",
       "      <td>2</td>\n",
       "      <td>6</td>\n",
       "      <td>0</td>\n",
       "      <td>0</td>\n",
       "      <td>8</td>\n",
       "    </tr>\n",
       "    <tr>\n",
       "      <th>75</th>\n",
       "      <td>6</td>\n",
       "      <td>601 DOLPA</td>\n",
       "      <td>0</td>\n",
       "      <td>0</td>\n",
       "      <td>0</td>\n",
       "      <td>0</td>\n",
       "      <td>0</td>\n",
       "      <td>0</td>\n",
       "      <td>0</td>\n",
       "      <td>1</td>\n",
       "      <td>1</td>\n",
       "      <td>2</td>\n",
       "      <td>1</td>\n",
       "      <td>0</td>\n",
       "      <td>5</td>\n",
       "    </tr>\n",
       "    <tr>\n",
       "      <th>76</th>\n",
       "      <td>6</td>\n",
       "      <td>603 HUMLA</td>\n",
       "      <td>0</td>\n",
       "      <td>0</td>\n",
       "      <td>0</td>\n",
       "      <td>0</td>\n",
       "      <td>0</td>\n",
       "      <td>0</td>\n",
       "      <td>0</td>\n",
       "      <td>0</td>\n",
       "      <td>2</td>\n",
       "      <td>1</td>\n",
       "      <td>0</td>\n",
       "      <td>0</td>\n",
       "      <td>3</td>\n",
       "    </tr>\n",
       "  </tbody>\n",
       "</table>\n",
       "<p>77 rows × 15 columns</p>\n",
       "</div>"
      ],
      "text/plain": [
       "    Province      Districts  Jan  Feb  Mar  Apr  May  Jun  Jul   Aug  Sept  \\\n",
       "0          3  306 KATHMANDU    0    0    0    0    1    1   35   727  9891   \n",
       "1          3   308 LALITPUR    0    0    0    0    0    1   99  1558  6016   \n",
       "2          3  307 BHAKTAPUR    0    0    0    0    0    0    6    86  1151   \n",
       "3          3  312 MAKWANPUR    0    0    0    0    0    0  221   337  2452   \n",
       "4          3   313 CHITAWAN    0    0    0    0    0    3    4    24   995   \n",
       "..       ...            ...  ...  ...  ...  ...  ...  ...  ...   ...   ...   \n",
       "72         6       602 MUGU    0    0    0    0    0    0    0     1     7   \n",
       "73         3     303 RASUWA    0    0    0    0    0    0    0     0     6   \n",
       "74         4    403 MUSTANG    0    0    0    0    0    0    0     0     2   \n",
       "75         6      601 DOLPA    0    0    0    0    0    0    0     1     1   \n",
       "76         6      603 HUMLA    0    0    0    0    0    0    0     0     2   \n",
       "\n",
       "     Oct  Nov  Dec  GrandTotal  \n",
       "0   2911  761   49       14376  \n",
       "1   1809  120   11        9614  \n",
       "2   4204  677   21        6145  \n",
       "3   2220  590   17        5837  \n",
       "4   1509  638   40        3213  \n",
       "..   ...  ...  ...         ...  \n",
       "72     4    0    0          12  \n",
       "73     5    0    0          11  \n",
       "74     6    0    0           8  \n",
       "75     2    1    0           5  \n",
       "76     1    0    0           3  \n",
       "\n",
       "[77 rows x 15 columns]"
      ]
     },
     "execution_count": 2,
     "metadata": {},
     "output_type": "execute_result"
    }
   ],
   "source": [
    "dengue_data = pd.read_csv('dengue_data.csv')\n",
    "dengue_data"
   ]
  },
  {
   "cell_type": "markdown",
   "id": "281e04ec",
   "metadata": {},
   "source": [
    "# Data Manipulation"
   ]
  },
  {
   "cell_type": "code",
   "execution_count": 8,
   "id": "53d47d67",
   "metadata": {},
   "outputs": [],
   "source": [
    "# this function remooves the integer value infront of each district name \n",
    "def remove_int(x):\n",
    "    return ''.join(filter(str.isalpha, x))"
   ]
  },
  {
   "cell_type": "code",
   "execution_count": 9,
   "id": "56b0d09a",
   "metadata": {},
   "outputs": [],
   "source": [
    "dengue_data['Districts']=dengue_data['Districts'].apply(remove_int)"
   ]
  },
  {
   "cell_type": "code",
   "execution_count": 10,
   "id": "f8c6b96e",
   "metadata": {},
   "outputs": [
    {
     "data": {
      "text/plain": [
       "0     KATHMANDU\n",
       "1      LALITPUR\n",
       "2     BHAKTAPUR\n",
       "3     MAKWANPUR\n",
       "4      CHITAWAN\n",
       "        ...    \n",
       "72         MUGU\n",
       "73       RASUWA\n",
       "74      MUSTANG\n",
       "75        DOLPA\n",
       "76        HUMLA\n",
       "Name: Districts, Length: 77, dtype: object"
      ]
     },
     "execution_count": 10,
     "metadata": {},
     "output_type": "execute_result"
    }
   ],
   "source": [
    "dengue_data['Districts']"
   ]
  },
  {
   "cell_type": "code",
   "execution_count": 18,
   "id": "433b3a15",
   "metadata": {},
   "outputs": [
    {
     "data": {
      "text/plain": [
       "['KATHMANDU',\n",
       " 'LALITPUR',\n",
       " 'BHAKTAPUR',\n",
       " 'MAKWANPUR',\n",
       " 'CHITAWAN',\n",
       " 'DANG',\n",
       " 'DHADING',\n",
       " 'RUPANDEHI',\n",
       " 'KAVREPALANCHOK',\n",
       " 'SURKHET',\n",
       " 'KAILALI',\n",
       " 'SUNSARI',\n",
       " 'TANAHU',\n",
       " 'DARCHULA',\n",
       " 'BARA',\n",
       " 'SANKHUWASABHA',\n",
       " 'GULMI',\n",
       " 'GORKHA',\n",
       " 'KHOTANG',\n",
       " 'PARBAT',\n",
       " 'NUWAKOT',\n",
       " 'KANCHANPUR',\n",
       " 'KASKI',\n",
       " 'JHAPA',\n",
       " 'RAMECHHAP',\n",
       " 'SINDHUPALCHOK',\n",
       " 'SYANGJA',\n",
       " 'BARDIYA',\n",
       " 'PARSA',\n",
       " 'PALPA',\n",
       " 'BAGLUNG',\n",
       " 'MORANG',\n",
       " 'NAWALPARASIEAST',\n",
       " 'TERHATHUM',\n",
       " 'SINDHULI',\n",
       " 'ARGHAKHANCHI',\n",
       " 'BANKE',\n",
       " 'SARLAHI',\n",
       " 'UDAYAPUR',\n",
       " 'DHANKUTA',\n",
       " 'RAUTAHAT',\n",
       " 'KAPILBASTU',\n",
       " 'NAWALPARASIWEST',\n",
       " 'ILAM',\n",
       " 'BHOJPUR',\n",
       " 'DOLAKHA',\n",
       " 'LAMJUNG',\n",
       " 'DOTI',\n",
       " 'PANCHTHAR',\n",
       " 'BAITADI',\n",
       " 'MYAGDI',\n",
       " 'MAHOTTARI',\n",
       " 'OKHALDHUNGA',\n",
       " 'PYUTHAN',\n",
       " 'RUKUMWEST',\n",
       " 'SAPTARI',\n",
       " 'DADELDHURA',\n",
       " 'ACHHAM',\n",
       " 'DHANUSA',\n",
       " 'SALYAN',\n",
       " 'SIRAHA',\n",
       " 'DAILEKH',\n",
       " 'BAJHANG',\n",
       " 'JUMLA',\n",
       " 'KALIKOT',\n",
       " 'RUKUMEAST',\n",
       " 'SOLUKHUMBU',\n",
       " 'BAJURA',\n",
       " 'ROLPA',\n",
       " 'TAPLEJUNG',\n",
       " 'JAJARKOT',\n",
       " 'MANANG',\n",
       " 'MUGU',\n",
       " 'RASUWA',\n",
       " 'MUSTANG',\n",
       " 'DOLPA',\n",
       " 'HUMLA']"
      ]
     },
     "execution_count": 18,
     "metadata": {},
     "output_type": "execute_result"
    }
   ],
   "source": [
    "#converting the district column in list for further insights\n",
    "x_districts=dengue_data['Districts'].tolist()\n",
    "x_districts"
   ]
  },
  {
   "cell_type": "code",
   "execution_count": 19,
   "id": "b36414b7",
   "metadata": {},
   "outputs": [],
   "source": [
    "# Taking 1682 as a threshold of number of infected people. If the number exceeds the threshold then the area is highly infected\n",
    "y_infected= [y for y in dengue_data['GrandTotal'].tolist() if y >= 1682]\n",
    "\n",
    "temp=[y for y in dengue_data['GrandTotal'].tolist() if y < 1682]\n",
    "\n",
    "y_infected.append(sum(temp))\n",
    "\n",
    "x_districts = dengue_data.loc[dengue_data['GrandTotal'].isin(y)]['Districts'].tolist()\n",
    "\n",
    "x_districts.append('Others')"
   ]
  },
  {
   "cell_type": "code",
   "execution_count": 20,
   "id": "1afc0e98",
   "metadata": {},
   "outputs": [
    {
     "data": {
      "text/plain": [
       "['KATHMANDU',\n",
       " 'LALITPUR',\n",
       " 'BHAKTAPUR',\n",
       " 'MAKWANPUR',\n",
       " 'CHITAWAN',\n",
       " 'DANG',\n",
       " 'DHADING',\n",
       " 'Others']"
      ]
     },
     "execution_count": 20,
     "metadata": {},
     "output_type": "execute_result"
    }
   ],
   "source": [
    "x_districts"
   ]
  },
  {
   "cell_type": "code",
   "execution_count": 21,
   "id": "227ed7fa",
   "metadata": {},
   "outputs": [
    {
     "data": {
      "text/plain": [
       "[3, 3, 3, 3, 3, 5, 3]"
      ]
     },
     "execution_count": 21,
     "metadata": {},
     "output_type": "execute_result"
    }
   ],
   "source": [
    "#Respective Provience number of above districts\n",
    "dengue_data.loc[dengue_data['Districts'].isin(x_districts)]['Province'].tolist()"
   ]
  },
  {
   "cell_type": "markdown",
   "id": "295126de",
   "metadata": {},
   "source": [
    "# Pie chart for data analysis"
   ]
  },
  {
   "cell_type": "code",
   "execution_count": 22,
   "id": "b967e045",
   "metadata": {},
   "outputs": [
    {
     "data": {
      "image/png": "[encoded data removed]",
      "text/plain": [
       "<Figure size 640x480 with 1 Axes>"
      ]
     },
     "metadata": {},
     "output_type": "display_data"
    }
   ],
   "source": [
    "plt.pie(y_infected,labels=dengue_data['Districts']==y_infected)\n",
    "plt.show()"
   ]
  },
  {
   "cell_type": "code",
   "execution_count": null,
   "id": "712069d2",
   "metadata": {},
   "outputs": [],
   "source": []
  }
 ],
 "metadata": {
  "kernelspec": {
   "display_name": "Python 3 (ipykernel)",
   "language": "python",
   "name": "python3"
  },
  "language_info": {
   "codemirror_mode": {
    "name": "ipython",
    "version": 3
   },
   "file_extension": ".py",
   "mimetype": "text/x-python",
   "name": "python",
   "nbconvert_exporter": "python",
   "pygments_lexer": "ipython3",
   "version": "3.11.2"
  }
 },
 "nbformat": 4,
 "nbformat_minor": 5
}
